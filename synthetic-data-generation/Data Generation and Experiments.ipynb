{
 "cells": [
  {
   "cell_type": "code",
   "execution_count": 127,
   "id": "2d601062",
   "metadata": {},
   "outputs": [],
   "source": [
    "import numpy as np\n",
    "import pandas as pd\n",
    "from random import randint\n",
    "from sklearn.model_selection import train_test_split\n",
    "from sklearn.linear_model import LinearRegression\n",
    "from sklearn.linear_model import Ridge\n",
    "from sklearn.linear_model import Lasso\n",
    "from sklearn.metrics import mean_squared_error\n",
    "import matplotlib.pyplot as plt\n",
    "from sklearn.pipeline import make_pipeline\n",
    "from sklearn.preprocessing import StandardScaler\n",
    "from sklearn.svm import SVC\n",
    "from sklearn.decomposition import PCA\n",
    "from sklearn.preprocessing import StandardScaler"
   ]
  },
  {
   "cell_type": "code",
   "execution_count": 128,
   "id": "10c6b87b",
   "metadata": {},
   "outputs": [
    {
     "name": "stdout",
     "output_type": "stream",
     "text": [
      "the shape of bias is  (200000, 1)\n",
      "the shape of X is  (200000, 3)\n",
      "the shape of W is  (3, 1)\n",
      "the shape of amounts is  (200000, 1)\n"
     ]
    }
   ],
   "source": [
    "# generate expected y value based on useful attributes\n",
    "# Y = XW + Bias\n",
    "size = 200000 # number of data points\n",
    "source_accs = []\n",
    "target_accs = []\n",
    "age_numbers = []\n",
    "amounts = []\n",
    "for i in range(size):\n",
    "    source = float(randint(1000000, 9999999))\n",
    "    source_accs.append(source)\n",
    "    target = float(randint(1000000, 9999999))\n",
    "    target_accs.append(target)\n",
    "    age = float(randint(18,60))\n",
    "    age_numbers.append(age)\n",
    "    \n",
    "mu, sigma = 0, 0.2 # mean and standard deviation for bias\n",
    "bias = np.array(np.random.normal(mu, sigma, size)).reshape(size, 1) # Gaussian Distribution\n",
    "print('the shape of bias is ', bias.shape)\n",
    "\n",
    "source_accs = np.asarray(source_accs).reshape(size, 1)\n",
    "target_accs = np.asarray(target_accs).reshape(size, 1)\n",
    "age_numbers = np.asarray(age_numbers).reshape(size, 1)\n",
    "# each row of X represents a transcation\n",
    "# X = np.array([source_accs, target_accs, age_numbers])\n",
    "X = np.concatenate((source_accs, target_accs, age_numbers), axis=1)\n",
    "print('the shape of X is ', X.shape)\n",
    "# weights, each element is a weight for corresponding feature in X\n",
    "W = np.array([0.2, 0.25, 4]).reshape(3, 1)\n",
    "print('the shape of W is ', W.shape)\n",
    "# expected amounts for transcations\n",
    "amounts = np.dot(X, W) + bias # dot product\n",
    "print('the shape of amounts is ', amounts.shape)"
   ]
  },
  {
   "cell_type": "markdown",
   "id": "ad7c4fcb",
   "metadata": {},
   "source": [
    "***First Obstacle Add irrelevent feature***"
   ]
  },
  {
   "cell_type": "code",
   "execution_count": 129,
   "id": "3bbace4d",
   "metadata": {},
   "outputs": [
    {
     "name": "stdout",
     "output_type": "stream",
     "text": [
      "the shape of X after adding irerevlent feature is  (200000, 4)\n"
     ]
    }
   ],
   "source": [
    "# high_corr_feature\n",
    "bonus_points = np.asarray(age+5*np.random.poisson(2,size)).reshape(size, 1)\n",
    "X = np.concatenate((source_accs, target_accs, age_numbers, bonus_points), axis=1)\n",
    "print('the shape of X after adding irerevlent feature is ', X.shape)"
   ]
  },
  {
   "cell_type": "code",
   "execution_count": 130,
   "id": "73316ca7",
   "metadata": {},
   "outputs": [
    {
     "name": "stdout",
     "output_type": "stream",
     "text": [
      "x_train has shape  (160000, 4)\n",
      "y_train has shape  (160000, 1)\n",
      "x_test has shape  (40000, 4)\n",
      "y_test has shape  (40000, 1)\n"
     ]
    }
   ],
   "source": [
    "# split training set and test set (0.8, 0.2)\n",
    "x_train, x_test, y_train, y_test = train_test_split(X, amounts, train_size = 0.8)\n",
    "print('x_train has shape ', x_train.shape)\n",
    "print('y_train has shape ', y_train.shape)\n",
    "print('x_test has shape ', x_test.shape)\n",
    "print('y_test has shape ', y_test.shape)"
   ]
  },
  {
   "cell_type": "code",
   "execution_count": 131,
   "id": "f61df078",
   "metadata": {
    "scrolled": true
   },
   "outputs": [
    {
     "name": "stdout",
     "output_type": "stream",
     "text": [
      "the accuracy from prediction of linear regression is  0.959851992662752\n"
     ]
    }
   ],
   "source": [
    "# fit the model from training set\n",
    "reg = LinearRegression().fit(x_train, y_train)\n",
    "# predict on test set using the model\n",
    "y_pred = reg.predict(x_test)\n",
    "# calculate error\n",
    "error = mean_squared_error(y_test, y_pred)\n",
    "print('the accuracy from prediction of linear regression is ', (1-error))"
   ]
  },
  {
   "cell_type": "code",
   "execution_count": 132,
   "id": "3b904d9a",
   "metadata": {},
   "outputs": [
    {
     "name": "stdout",
     "output_type": "stream",
     "text": [
      "the accuracy from prediction after dimension reduction is  0.95983813289919\n"
     ]
    }
   ],
   "source": [
    "X = StandardScaler().fit_transform(X)\n",
    "# now evalute after dimension reduction\n",
    "pca = PCA(n_components=4)\n",
    "# now fit the model and evalaute again\n",
    "X_reduced = pca.fit_transform(X) # reduce-dim of input X\n",
    "x_train, x_test, y_train, y_test = train_test_split(X_reduced, amounts, train_size = 0.8)\n",
    "x_train_reduced = pca.fit_transform(x_train)\n",
    "x_test_reduced = pca.fit_transform(x_test)\n",
    "reg = LinearRegression().fit(x_train, y_train)\n",
    "y_pred = reg.predict(x_test)\n",
    "error = mean_squared_error(y_test, y_pred)\n",
    "print('the accuracy from prediction after dimension reduction is ', (1-error))"
   ]
  },
  {
   "cell_type": "code",
   "execution_count": 133,
   "id": "985d54da",
   "metadata": {},
   "outputs": [],
   "source": [
    "# clf = make_pipeline(StandardScaler(), SVC(gamma='auto'))\n",
    "# clf.fit(x_train, y_train)\n",
    "# # predict on test set using the model\n",
    "# y_pred = clf.predict(x_test)\n",
    "# # calculate error\n",
    "# error = mean_squared_error(y_test, y_pred)\n",
    "# print('the accuracy from prediction is ', (1-error))"
   ]
  },
  {
   "cell_type": "code",
   "execution_count": 134,
   "id": "afbd7294",
   "metadata": {},
   "outputs": [
    {
     "name": "stdout",
     "output_type": "stream",
     "text": [
      "the accuracy from prediction is  0.9194521261034343\n"
     ]
    }
   ],
   "source": [
    "clf = Lasso(alpha=0.1)\n",
    "clf.fit(x_train, y_train)\n",
    "# predict on test set using the model\n",
    "y_pred = clf.predict(x_test)\n",
    "# calculate error\n",
    "error = mean_squared_error(y_test, y_pred)\n",
    "print('the accuracy from prediction is ', (1-error))"
   ]
  },
  {
   "cell_type": "code",
   "execution_count": 135,
   "id": "2eb4a8fa",
   "metadata": {},
   "outputs": [
    {
     "name": "stdout",
     "output_type": "stream",
     "text": [
      "the accuracy from prediction is  -25.86871254384982\n"
     ]
    }
   ],
   "source": [
    "clf = Ridge(alpha=1.0)\n",
    "clf.fit(x_train, y_train)\n",
    "# predict on test set using the model\n",
    "y_pred = clf.predict(x_test)\n",
    "# calculate error\n",
    "error = mean_squared_error(y_test, y_pred)\n",
    "print('the accuracy from prediction is ', (1-error))"
   ]
  },
  {
   "cell_type": "markdown",
   "id": "a6ab2ef5",
   "metadata": {},
   "source": [
    "***Second Obstacle***\n",
    "* **Make outliers**\n",
    "* **Run the algorithm, expect to see strange accuracy**"
   ]
  },
  {
   "cell_type": "code",
   "execution_count": 136,
   "id": "1a19930b",
   "metadata": {},
   "outputs": [],
   "source": [
    "for i in range(10):\n",
    "    rand_idx = randint(0, size)\n",
    "    amounts[rand_idx] += randint(1000000, 9999999)"
   ]
  },
  {
   "cell_type": "code",
   "execution_count": 137,
   "id": "aff17cd7",
   "metadata": {},
   "outputs": [
    {
     "name": "stdout",
     "output_type": "stream",
     "text": [
      "the accuracy from prediction is  -36512776.05542175\n"
     ]
    }
   ],
   "source": [
    "# split training set and test set (0.8, 0.2)\n",
    "x_train, x_test, y_train, y_test = train_test_split(X, amounts, train_size = 0.8)\n",
    "# fit the model from training set\n",
    "reg = LinearRegression().fit(x_train, y_train)\n",
    "# predict on test set using the model\n",
    "y_pred = reg.predict(x_test)\n",
    "# calculate error\n",
    "error = mean_squared_error(y_test, y_pred)\n",
    "print('the accuracy from prediction is ', (1-error))"
   ]
  },
  {
   "cell_type": "code",
   "execution_count": 138,
   "id": "e6b0c07f",
   "metadata": {},
   "outputs": [
    {
     "data": {
      "text/plain": [
       "[<matplotlib.lines.Line2D at 0x20b0825d0f0>,\n",
       " <matplotlib.lines.Line2D at 0x20b0825d208>,\n",
       " <matplotlib.lines.Line2D at 0x20b0825d358>,\n",
       " <matplotlib.lines.Line2D at 0x20b0825d4a8>]"
      ]
     },
     "execution_count": 138,
     "metadata": {},
     "output_type": "execute_result"
    },
    {
     "data": {
      "image/png": "[encoded data removed]",
      "text/plain": [
       "<Figure size 432x288 with 1 Axes>"
      ]
     },
     "metadata": {
      "needs_background": "light"
     },
     "output_type": "display_data"
    }
   ],
   "source": [
    "# scatter plot to observe the pattern and see if there are outliers\n",
    "plt.plot(X, amounts, 'o', color='blue')"
   ]
  },
  {
   "cell_type": "code",
   "execution_count": 139,
   "id": "217e7525",
   "metadata": {},
   "outputs": [],
   "source": [
    "# identify outliers by using Interquartile range (IQR)\n",
    "sorted_amounts = sorted(amounts)\n",
    "half = int(size/2)\n",
    "# First quartile (Q1)\n",
    "Q1 = np.median(sorted_amounts[:half])\n",
    "Q3 = np.median(sorted_amounts[half:])\n",
    "# Interquaritle range (IQR)\n",
    "IQR = Q3 - Q1"
   ]
  },
  {
   "cell_type": "code",
   "execution_count": 140,
   "id": "f6d64dea",
   "metadata": {},
   "outputs": [],
   "source": [
    "outliers_row = []\n",
    "# remove outliers from X and amounts, adjust the size of bias accordingly\n",
    "threhold = Q3 + 0.8*IQR # lower the coefficient of IQR if do not remove outliers completely\n",
    "for i in range(size):\n",
    "    if amounts[i] > threhold:\n",
    "        outliers_row.append(i)\n",
    "        \n",
    "X = np.delete(X, outliers_row, 0)\n",
    "amounts = np.delete(amounts, outliers_row, 0)\n",
    "bias = np.delete(bias, outliers_row, 0)"
   ]
  },
  {
   "cell_type": "code",
   "execution_count": 141,
   "id": "cc35a888",
   "metadata": {},
   "outputs": [
    {
     "data": {
      "text/plain": [
       "[<matplotlib.lines.Line2D at 0x20b06216eb8>,\n",
       " <matplotlib.lines.Line2D at 0x20b06216d68>,\n",
       " <matplotlib.lines.Line2D at 0x20b050cb128>,\n",
       " <matplotlib.lines.Line2D at 0x20b050cb278>]"
      ]
     },
     "execution_count": 141,
     "metadata": {},
     "output_type": "execute_result"
    },
    {
     "data": {
      "image/png": "[encoded data removed]",
      "text/plain": [
       "<Figure size 432x288 with 1 Axes>"
      ]
     },
     "metadata": {
      "needs_background": "light"
     },
     "output_type": "display_data"
    }
   ],
   "source": [
    "# re-scatter plot to see if we eliminate the outliers\n",
    "plt.plot(X, amounts, 'o', color='blue')"
   ]
  },
  {
   "cell_type": "code",
   "execution_count": 142,
   "id": "5cc63d52",
   "metadata": {},
   "outputs": [
    {
     "name": "stdout",
     "output_type": "stream",
     "text": [
      "the accuracy from prediction is  -10157.771591996381\n"
     ]
    }
   ],
   "source": [
    "# split training set and test set (0.8, 0.2)\n",
    "x_train, x_test, y_train, y_test = train_test_split(X, amounts, train_size = 0.8)\n",
    "# fit the model from training set\n",
    "reg = LinearRegression().fit(x_train, y_train)\n",
    "# predict on test set using the model\n",
    "y_pred = reg.predict(x_test)\n",
    "# calculate error\n",
    "error = mean_squared_error(y_test, y_pred)\n",
    "print('the accuracy from prediction is ', (1-error))"
   ]
  },
  {
   "cell_type": "markdown",
   "id": "ec1c5130",
   "metadata": {},
   "source": [
    " ***Third Obstacle***\n",
    " * **Make input matrix X have missing values**\n",
    " * **Then run the alorithm, expect to see the algorithm fail to run**"
   ]
  },
  {
   "cell_type": "code",
   "execution_count": 143,
   "id": "5dd1478d",
   "metadata": {},
   "outputs": [],
   "source": [
    "# make input matrix X have missing values\n",
    "for i in range(200):\n",
    "    idx_x = np.random.randint(0, X.shape[0])\n",
    "    idx_y = np.random.randint(0, X.shape[1])\n",
    "    X[idx_x][idx_y] = np.nan"
   ]
  },
  {
   "cell_type": "code",
   "execution_count": 144,
   "id": "3d28fff2",
   "metadata": {},
   "outputs": [
    {
     "name": "stdout",
     "output_type": "stream",
     "text": [
      "x_train has shape  (155954, 4)\n",
      "y_train has shape  (155954, 1)\n",
      "x_test has shape  (38989, 4)\n",
      "y_test has shape  (38989, 1)\n"
     ]
    }
   ],
   "source": [
    "# split training set and test set (0.8, 0.2)\n",
    "x_train, x_test, y_train, y_test = train_test_split(X, amounts, train_size = 0.8)\n",
    "print('x_train has shape ', x_train.shape)\n",
    "print('y_train has shape ', y_train.shape)\n",
    "print('x_test has shape ', x_test.shape)\n",
    "print('y_test has shape ', y_test.shape)"
   ]
  },
  {
   "cell_type": "code",
   "execution_count": 145,
   "id": "87b5333d",
   "metadata": {},
   "outputs": [
    {
     "data": {
      "text/plain": [
       "[<matplotlib.lines.Line2D at 0x20b063cf0f0>,\n",
       " <matplotlib.lines.Line2D at 0x20b063cf208>,\n",
       " <matplotlib.lines.Line2D at 0x20b063cf358>,\n",
       " <matplotlib.lines.Line2D at 0x20b063cf4a8>]"
      ]
     },
     "execution_count": 145,
     "metadata": {},
     "output_type": "execute_result"
    },
    {
     "data": {
      "image/png": "[encoded data removed]",
      "text/plain": [
       "<Figure size 432x288 with 1 Axes>"
      ]
     },
     "metadata": {
      "needs_background": "light"
     },
     "output_type": "display_data"
    }
   ],
   "source": [
    "plt.plot(X, amounts, 'o', color='blue')"
   ]
  },
  {
   "cell_type": "markdown",
   "id": "3afc7bb2",
   "metadata": {},
   "source": [
    "**Now we expecte to see linear regression algorithm fails due to invalid entries in input**"
   ]
  },
  {
   "cell_type": "code",
   "execution_count": 146,
   "id": "7e015286",
   "metadata": {},
   "outputs": [
    {
     "ename": "ValueError",
     "evalue": "Input contains NaN, infinity or a value too large for dtype('float64').",
     "output_type": "error",
     "traceback": [
      "\u001b[1;31m---------------------------------------------------------------------------\u001b[0m",
      "\u001b[1;31mValueError\u001b[0m                                Traceback (most recent call last)",
      "\u001b[1;32m<ipython-input-146-e091ede035e6>\u001b[0m in \u001b[0;36m<module>\u001b[1;34m\u001b[0m\n\u001b[0;32m      1\u001b[0m \u001b[1;31m# fit the model from training set\u001b[0m\u001b[1;33m\u001b[0m\u001b[1;33m\u001b[0m\u001b[1;33m\u001b[0m\u001b[0m\n\u001b[1;32m----> 2\u001b[1;33m \u001b[0mreg\u001b[0m \u001b[1;33m=\u001b[0m \u001b[0mLinearRegression\u001b[0m\u001b[1;33m(\u001b[0m\u001b[1;33m)\u001b[0m\u001b[1;33m.\u001b[0m\u001b[0mfit\u001b[0m\u001b[1;33m(\u001b[0m\u001b[0mx_train\u001b[0m\u001b[1;33m,\u001b[0m \u001b[0my_train\u001b[0m\u001b[1;33m)\u001b[0m\u001b[1;33m\u001b[0m\u001b[1;33m\u001b[0m\u001b[0m\n\u001b[0m\u001b[0;32m      3\u001b[0m \u001b[1;31m# predict on test set using the model\u001b[0m\u001b[1;33m\u001b[0m\u001b[1;33m\u001b[0m\u001b[1;33m\u001b[0m\u001b[0m\n\u001b[0;32m      4\u001b[0m \u001b[0my_pred\u001b[0m \u001b[1;33m=\u001b[0m \u001b[0mreg\u001b[0m\u001b[1;33m.\u001b[0m\u001b[0mpredict\u001b[0m\u001b[1;33m(\u001b[0m\u001b[0mx_test\u001b[0m\u001b[1;33m)\u001b[0m\u001b[1;33m\u001b[0m\u001b[1;33m\u001b[0m\u001b[0m\n\u001b[0;32m      5\u001b[0m \u001b[1;31m# calculate error\u001b[0m\u001b[1;33m\u001b[0m\u001b[1;33m\u001b[0m\u001b[1;33m\u001b[0m\u001b[0m\n",
      "\u001b[1;32mc:\\users\\yjjw9\\appdata\\local\\programs\\python\\python37\\lib\\site-packages\\sklearn\\linear_model\\_base.py\u001b[0m in \u001b[0;36mfit\u001b[1;34m(self, X, y, sample_weight)\u001b[0m\n\u001b[0;32m    490\u001b[0m         \u001b[0mn_jobs_\u001b[0m \u001b[1;33m=\u001b[0m \u001b[0mself\u001b[0m\u001b[1;33m.\u001b[0m\u001b[0mn_jobs\u001b[0m\u001b[1;33m\u001b[0m\u001b[1;33m\u001b[0m\u001b[0m\n\u001b[0;32m    491\u001b[0m         X, y = check_X_y(X, y, accept_sparse=['csr', 'csc', 'coo'],\n\u001b[1;32m--> 492\u001b[1;33m                          y_numeric=True, multi_output=True)\n\u001b[0m\u001b[0;32m    493\u001b[0m \u001b[1;33m\u001b[0m\u001b[0m\n\u001b[0;32m    494\u001b[0m         \u001b[1;32mif\u001b[0m \u001b[0msample_weight\u001b[0m \u001b[1;32mis\u001b[0m \u001b[1;32mnot\u001b[0m \u001b[1;32mNone\u001b[0m\u001b[1;33m:\u001b[0m\u001b[1;33m\u001b[0m\u001b[1;33m\u001b[0m\u001b[0m\n",
      "\u001b[1;32mc:\\users\\yjjw9\\appdata\\local\\programs\\python\\python37\\lib\\site-packages\\sklearn\\utils\\validation.py\u001b[0m in \u001b[0;36mcheck_X_y\u001b[1;34m(X, y, accept_sparse, accept_large_sparse, dtype, order, copy, force_all_finite, ensure_2d, allow_nd, multi_output, ensure_min_samples, ensure_min_features, y_numeric, warn_on_dtype, estimator)\u001b[0m\n\u001b[0;32m    753\u001b[0m                     \u001b[0mensure_min_features\u001b[0m\u001b[1;33m=\u001b[0m\u001b[0mensure_min_features\u001b[0m\u001b[1;33m,\u001b[0m\u001b[1;33m\u001b[0m\u001b[1;33m\u001b[0m\u001b[0m\n\u001b[0;32m    754\u001b[0m                     \u001b[0mwarn_on_dtype\u001b[0m\u001b[1;33m=\u001b[0m\u001b[0mwarn_on_dtype\u001b[0m\u001b[1;33m,\u001b[0m\u001b[1;33m\u001b[0m\u001b[1;33m\u001b[0m\u001b[0m\n\u001b[1;32m--> 755\u001b[1;33m                     estimator=estimator)\n\u001b[0m\u001b[0;32m    756\u001b[0m     \u001b[1;32mif\u001b[0m \u001b[0mmulti_output\u001b[0m\u001b[1;33m:\u001b[0m\u001b[1;33m\u001b[0m\u001b[1;33m\u001b[0m\u001b[0m\n\u001b[0;32m    757\u001b[0m         y = check_array(y, 'csr', force_all_finite=True, ensure_2d=False,\n",
      "\u001b[1;32mc:\\users\\yjjw9\\appdata\\local\\programs\\python\\python37\\lib\\site-packages\\sklearn\\utils\\validation.py\u001b[0m in \u001b[0;36mcheck_array\u001b[1;34m(array, accept_sparse, accept_large_sparse, dtype, order, copy, force_all_finite, ensure_2d, allow_nd, ensure_min_samples, ensure_min_features, warn_on_dtype, estimator)\u001b[0m\n\u001b[0;32m    576\u001b[0m         \u001b[1;32mif\u001b[0m \u001b[0mforce_all_finite\u001b[0m\u001b[1;33m:\u001b[0m\u001b[1;33m\u001b[0m\u001b[1;33m\u001b[0m\u001b[0m\n\u001b[0;32m    577\u001b[0m             _assert_all_finite(array,\n\u001b[1;32m--> 578\u001b[1;33m                                allow_nan=force_all_finite == 'allow-nan')\n\u001b[0m\u001b[0;32m    579\u001b[0m \u001b[1;33m\u001b[0m\u001b[0m\n\u001b[0;32m    580\u001b[0m     \u001b[1;32mif\u001b[0m \u001b[0mensure_min_samples\u001b[0m \u001b[1;33m>\u001b[0m \u001b[1;36m0\u001b[0m\u001b[1;33m:\u001b[0m\u001b[1;33m\u001b[0m\u001b[1;33m\u001b[0m\u001b[0m\n",
      "\u001b[1;32mc:\\users\\yjjw9\\appdata\\local\\programs\\python\\python37\\lib\\site-packages\\sklearn\\utils\\validation.py\u001b[0m in \u001b[0;36m_assert_all_finite\u001b[1;34m(X, allow_nan, msg_dtype)\u001b[0m\n\u001b[0;32m     58\u001b[0m                     \u001b[0mmsg_err\u001b[0m\u001b[1;33m.\u001b[0m\u001b[0mformat\u001b[0m\u001b[1;33m\u001b[0m\u001b[1;33m\u001b[0m\u001b[0m\n\u001b[0;32m     59\u001b[0m                     (type_err,\n\u001b[1;32m---> 60\u001b[1;33m                      msg_dtype if msg_dtype is not None else X.dtype)\n\u001b[0m\u001b[0;32m     61\u001b[0m             )\n\u001b[0;32m     62\u001b[0m     \u001b[1;31m# for object dtype data, we only check for NaNs (GH-13254)\u001b[0m\u001b[1;33m\u001b[0m\u001b[1;33m\u001b[0m\u001b[1;33m\u001b[0m\u001b[0m\n",
      "\u001b[1;31mValueError\u001b[0m: Input contains NaN, infinity or a value too large for dtype('float64')."
     ]
    }
   ],
   "source": [
    "# fit the model from training set\n",
    "reg = LinearRegression().fit(x_train, y_train)\n",
    "# predict on test set using the model\n",
    "y_pred = reg.predict(x_test)\n",
    "# calculate error\n",
    "error = mean_squared_error(y_test, y_pred)\n",
    "print('the accuracy from prediction is ', (1-error))"
   ]
  },
  {
   "cell_type": "markdown",
   "id": "df43a3be",
   "metadata": {},
   "source": [
    "* **Then we try to recover missing values in X**\n",
    "* **Each column is a feature of X**\n",
    "* **For each NaN, we regenerate a reasonable value that lies in minimum and maximum of that column**\n",
    "* **After we replace NaN with reasonable values in X, we recompute amounts (y values)**"
   ]
  },
  {
   "cell_type": "code",
   "execution_count": null,
   "id": "2d5bc793",
   "metadata": {},
   "outputs": [],
   "source": [
    "for j in range(X.shape[1]):\n",
    "    min_val = np.nanmin(X[:,j])\n",
    "    max_val = np.nanmax(X[:,j])\n",
    "    for i in range(X.shape[0]):\n",
    "        if np.isnan(X[i][j]):\n",
    "            counter += 1\n",
    "            X[i][j] = float(randint(min_val, max_val))\n",
    "\n",
    "amounts = np.dot(X, W) + bias # dot product"
   ]
  },
  {
   "cell_type": "markdown",
   "id": "e3e55987",
   "metadata": {},
   "source": [
    "**After the recovery step, we expect to see a reasonable prediction accuracy**"
   ]
  },
  {
   "cell_type": "code",
   "execution_count": null,
   "id": "665385ed",
   "metadata": {},
   "outputs": [],
   "source": [
    "# split training set and test set (0.8, 0.2)\n",
    "x_train, x_test, y_train, y_test = train_test_split(X, amounts, train_size = 0.8)\n",
    "print('x_train has shape ', x_train.shape)\n",
    "print('y_train has shape ', y_train.shape)\n",
    "print('x_test has shape ', x_test.shape)\n",
    "print('y_test has shape ', y_test.shape)\n",
    "\n",
    "# fit the model from training set\n",
    "reg = LinearRegression().fit(x_train, y_train)\n",
    "# predict on test set using the model\n",
    "y_pred = reg.predict(x_test)\n",
    "# calculate error\n",
    "error = mean_squared_error(y_test, y_pred)\n",
    "print('the accuracy from prediction is ', (1-error))"
   ]
  }
 ],
 "metadata": {
  "kernelspec": {
   "display_name": "Python 3",
   "language": "python",
   "name": "python3"
  },
  "language_info": {
   "codemirror_mode": {
    "name": "ipython",
    "version": 3
   },
   "file_extension": ".py",
   "mimetype": "text/x-python",
   "name": "python",
   "nbconvert_exporter": "python",
   "pygments_lexer": "ipython3",
   "version": "3.7.3"
  }
 },
 "nbformat": 4,
 "nbformat_minor": 5
}
